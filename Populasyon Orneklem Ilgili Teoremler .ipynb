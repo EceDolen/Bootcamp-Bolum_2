{
 "cells": [
  {
   "cell_type": "markdown",
   "metadata": {},
   "source": [
    "1.İki normal dağılıma sahip rassal sayı üretin. Bu rassal sayılardan birisinden 1000 tane 10.000 tane elde edelim. Bu iki rassal sayının da olasılık yoğunluk grafiğini çizelim. Sizce Merkezi Limit Teoremi bu olayda geçerli midir?\n",
    "\n",
    "2.İki madeni paramızın olduğunu varsayalım. Bunlardan bir tanesi adil (yani, yeteri kadar deneme yapıldığında yazı veya tura 1/2 olasılığına yaklaşmakta) diğeri ile ise 3/4 olasılığında tura elde edilmektedir.Herhangi biri seçilip, n kere deneme yapıldığında,Sn tura sayısı olursa, Büyük Sayılar Yasası uzun vadede gelecek tura sayısını tahmin etmemize izin verir mi? Çok sayıda deneme yapıldığında, hangi paranın seçildiğini bilebilir miyiz? Kaç deneme bizi %95 oranında emin kılar?"
   ]
  },
  {
   "cell_type": "code",
   "execution_count": 2,
   "metadata": {},
   "outputs": [],
   "source": [
    "import numpy as np\n",
    "import matplotlib.pyplot as plt"
   ]
  },
  {
   "cell_type": "markdown",
   "metadata": {},
   "source": [
    "1.İki normal dağılıma sahip rassal sayı üretin. Bu rassal sayılardan birisinden 1000 tane 10.000 tane elde edelim. Bu iki rassal sayının da olasılık yoğunluk grafiğini çizelim. Sizce Merkezi Limit Teoremi bu olayda geçerli midir?"
   ]
  },
  {
   "cell_type": "code",
   "execution_count": 4,
   "metadata": {},
   "outputs": [],
   "source": [
    "birinci_rassal_sayi = np.random.normal(10, 0.2, 1000)\n",
    "ikinci_rassal_sayi = np.random.normal(10, 0.2, 10000)"
   ]
  },
  {
   "cell_type": "code",
   "execution_count": 5,
   "metadata": {},
   "outputs": [
    {
     "data": {
      "image/png": "[encoded data removed]",
      "text/plain": [
       "<Figure size 576x360 with 1 Axes>"
      ]
     },
     "metadata": {
      "needs_background": "light"
     },
     "output_type": "display_data"
    }
   ],
   "source": [
    "plt.figure(figsize=(8,5))\n",
    "\n",
    "plt.hist(birinci_rassal_sayi, alpha=0.5, label='Sayi 1') \n",
    "plt.hist(ikinci_rassal_sayi, alpha=0.5, label='Sayi 2') \n",
    "plt.legend(loc='upper left') \n",
    "plt.show()"
   ]
  },
  {
   "cell_type": "code",
   "execution_count": 6,
   "metadata": {},
   "outputs": [
    {
     "data": {
      "image/png": "[encoded data removed]",
      "text/plain": [
       "<Figure size 432x288 with 2 Axes>"
      ]
     },
     "metadata": {
      "needs_background": "light"
     },
     "output_type": "display_data"
    }
   ],
   "source": [
    "plt.subplot(1,2,1)\n",
    "plt.hist(birinci_rassal_sayi)\n",
    "plt.subplot(1,2,2)\n",
    "plt.hist(ikinci_rassal_sayi)\n",
    "plt.show()"
   ]
  },
  {
   "cell_type": "markdown",
   "metadata": {},
   "source": [
    "Merkezi Limit teoremi gecerlidir ancak gozlem sayisi azaldikca etkisi azalmaktadir. "
   ]
  },
  {
   "cell_type": "markdown",
   "metadata": {},
   "source": []
  },
  {
   "cell_type": "markdown",
   "metadata": {},
   "source": [
    "2.İki madeni paramızın olduğunu varsayalım. Bunlardan bir tanesi adil (yani, yeteri kadar deneme yapıldığında yazı veya tura 1/2 olasılığına yaklaşmakta) diğeri ile ise 3/4 olasılığında tura elde edilmektedir.Herhangi biri seçilip, n kere deneme yapıldığında,Sn tura sayısı olursa, Büyük Sayılar Yasası uzun vadede gelecek tura sayısını tahmin etmemize izin verir mi? Çok sayıda deneme yapıldığında, hangi paranın seçildiğini bilebilir miyiz? Kaç deneme bizi %95 oranında emin kılar?"
   ]
  },
  {
   "cell_type": "code",
   "execution_count": 8,
   "metadata": {},
   "outputs": [
    {
     "name": "stdout",
     "output_type": "stream",
     "text": [
      "1 para ile deneme : 0.736 \n",
      "2 para ile deneme : 0.548 \n",
      "3 para ile deneme : 0.863 \n",
      "4 para ile deneme : 0.725 \n",
      "5 para ile deneme : 0.886 \n",
      "6 para ile deneme : 0.821 \n",
      "7 para ile deneme : 0.944 \n",
      "8 para ile deneme : 0.884 \n",
      "9 para ile deneme : 0.942 \n",
      "10 para ile deneme : 0.924 \n",
      "11 para ile deneme : 0.975 \n",
      "12 para ile deneme : 0.955 \n",
      "13 para ile deneme : 0.978 \n",
      "14 para ile deneme : 0.965 \n",
      "15 para ile deneme : 0.984 \n",
      "16 para ile deneme : 0.978 \n",
      "17 para ile deneme : 0.992 \n",
      "18 para ile deneme : 0.984 \n",
      "19 para ile deneme : 0.993 \n"
     ]
    }
   ],
   "source": [
    "for i in range(1,20): \n",
    "    atis = np.random.binomial(i,0.75,1000)\n",
    "    p = np.sum((atis/i)>0.5)/1000\n",
    "    print(\"{} para ile deneme : {} \".format(i,p))"
   ]
  },
  {
   "cell_type": "code",
   "execution_count": 10,
   "metadata": {},
   "outputs": [
    {
     "name": "stdout",
     "output_type": "stream",
     "text": [
      "1 para ile deneme : 0.75\n",
      "3 para ile deneme : 0.835\n",
      "5 para ile deneme : 0.897\n",
      "7 para ile deneme : 0.931\n",
      "9 para ile deneme : 0.955\n",
      "11 para ile deneme : 0.955\n",
      "13 para ile deneme : 0.965\n",
      "15 para ile deneme : 0.973\n",
      "17 para ile deneme : 0.99\n",
      "19 para ile deneme : 0.995\n"
     ]
    }
   ],
   "source": [
    "for i in range (1,20,2):\n",
    "    atis = np.random.binomial(i,0.75,1000)\n",
    "    p = np.sum((atis/i)>0.5)/1000 \n",
    "    print(\"{} para ile deneme : {}\".format(i,p))\n",
    "    \n"
   ]
  },
  {
   "cell_type": "markdown",
   "metadata": {},
   "source": [
    "Atis arttikca dogruluk artmaktadir. "
   ]
  }
 ],
 "metadata": {
  "kernelspec": {
   "display_name": "Python 3",
   "language": "python",
   "name": "python3"
  },
  "language_info": {
   "codemirror_mode": {
    "name": "ipython",
    "version": 3
   },
   "file_extension": ".py",
   "mimetype": "text/x-python",
   "name": "python",
   "nbconvert_exporter": "python",
   "pygments_lexer": "ipython3",
   "version": "3.7.2"
  }
 },
 "nbformat": 4,
 "nbformat_minor": 2
}
