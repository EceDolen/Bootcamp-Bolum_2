{
 "cells": [
  {
   "cell_type": "markdown",
   "metadata": {},
   "source": [
    "1.İki normal dağılıma sahip rassal sayı üretin. Bu rassal sayılardan birisinden 1000 tane 10.000 tane elde edelim. Bu iki rassal sayının da olasılık yoğunluk grafiğini çizelim. Sizce Merkezi Limit Teoremi bu olayda geçerli midir?\n",
    "\n",
    "2.İki madeni paramızın olduğunu varsayalım. Bunlardan bir tanesi adil (yani, yeteri kadar deneme yapıldığında yazı veya tura 1/2 olasılığına yaklaşmakta) diğeri ile ise 3/4 olasılığında tura elde edilmektedir.Herhangi biri seçilip, n kere deneme yapıldığında,Sn tura sayısı olursa, Büyük Sayılar Yasası uzun vadede gelecek tura sayısını tahmin etmemize izin verir mi? Çok sayıda deneme yapıldığında, hangi paranın seçildiğini bilebilir miyiz? Kaç deneme bizi %95 oranında emin kılar?"
   ]
  },
  {
   "cell_type": "code",
   "execution_count": 1,
   "metadata": {},
   "outputs": [],
   "source": [
    "import numpy as np\n",
    "import matplotlib.pyplot as plt"
   ]
  },
  {
   "cell_type": "markdown",
   "metadata": {},
   "source": [
    "1.İki normal dağılıma sahip rassal sayı üretin. Bu rassal sayılardan birisinden 1000 tane 10.000 tane elde edelim. Bu iki rassal sayının da olasılık yoğunluk grafiğini çizelim. Sizce Merkezi Limit Teoremi bu olayda geçerli midir?"
   ]
  },
  {
   "cell_type": "code",
   "execution_count": 2,
   "metadata": {},
   "outputs": [],
   "source": [
    "birinci_rassal_sayi = np.random.normal(10, 0.2, 1000)\n",
    "ikinci_rassal_sayi = np.random.normal(10, 0.2, 10000)"
   ]
  },
  {
   "cell_type": "code",
   "execution_count": 3,
   "metadata": {},
   "outputs": [
    {
     "data": {
      "image/png": "[encoded data removed]",
      "text/plain": [
       "<Figure size 576x360 with 1 Axes>"
      ]
     },
     "metadata": {
      "needs_background": "light"
     },
     "output_type": "display_data"
    }
   ],
   "source": [
    "plt.figure(figsize=(8,5))\n",
    "\n",
    "plt.hist(birinci_rassal_sayi, alpha=0.5, label='Sayi 1') \n",
    "plt.hist(ikinci_rassal_sayi, alpha=0.5, label='Sayi 2') \n",
    "plt.legend(loc='upper left') \n",
    "plt.show()"
   ]
  },
  {
   "cell_type": "code",
   "execution_count": 4,
   "metadata": {},
   "outputs": [
    {
     "data": {
      "image/png": "[encoded data removed]",
      "text/plain": [
       "<Figure size 432x288 with 2 Axes>"
      ]
     },
     "metadata": {
      "needs_background": "light"
     },
     "output_type": "display_data"
    }
   ],
   "source": [
    "plt.subplot(1,2,1)\n",
    "plt.hist(birinci_rassal_sayi)\n",
    "plt.subplot(1,2,2)\n",
    "plt.hist(ikinci_rassal_sayi)\n",
    "plt.show()"
   ]
  },
  {
   "cell_type": "markdown",
   "metadata": {},
   "source": [
    "Merkezi Limit teoremi gecerlidir ancak gozlem sayisi azaldikca etkisi azalmaktadir. "
   ]
  },
  {
   "cell_type": "markdown",
   "metadata": {},
   "source": []
  },
  {
   "cell_type": "markdown",
   "metadata": {},
   "source": [
    "2.İki madeni paramızın olduğunu varsayalım. Bunlardan bir tanesi adil (yani, yeteri kadar deneme yapıldığında yazı veya tura 1/2 olasılığına yaklaşmakta) diğeri ile ise 3/4 olasılığında tura elde edilmektedir.Herhangi biri seçilip, n kere deneme yapıldığında,Sn tura sayısı olursa, Büyük Sayılar Yasası uzun vadede gelecek tura sayısını tahmin etmemize izin verir mi? Çok sayıda deneme yapıldığında, hangi paranın seçildiğini bilebilir miyiz? Kaç deneme bizi %95 oranında emin kılar?"
   ]
  },
  {
   "cell_type": "code",
   "execution_count": 5,
   "metadata": {},
   "outputs": [
    {
     "name": "stdout",
     "output_type": "stream",
     "text": [
      "Kaç deneme yapmak istiyorsunuz:5\n"
     ]
    },
    {
     "data": {
      "image/png": "[encoded data removed]",
      "text/plain": [
       "<Figure size 432x288 with 1 Axes>"
      ]
     },
     "metadata": {
      "needs_background": "light"
     },
     "output_type": "display_data"
    },
    {
     "name": "stdout",
     "output_type": "stream",
     "text": [
      "Yapılan atış sayısı:  5\n",
      "Bir sonraki atış için hesaplanan tura gelme ihtimali:  0.2\n",
      "Bir sonraki atış için hesaplanan yazı gelme ihtimali:  0.8\n"
     ]
    }
   ],
   "source": [
    "# 1. Yontem \n",
    "\n",
    "# programda deneme sayısı arttırıldığında yazı veya tura gelme olasılığının %50'ye yaklaştığı görülür. \n",
    "\n",
    "a = int(input('Kaç deneme yapmak istiyorsunuz:'))\n",
    "atis = []\n",
    "for i in range(1,a+1):\n",
    "    atis.append(np.random.randint(0,2))\n",
    "    \n",
    "plt.hist(atis)\n",
    "plt.show()\n",
    "yazi = 0\n",
    "tura = 0\n",
    "for i in range(len(atis)):\n",
    "    if atis[i] == 1:\n",
    "        tura += 1\n",
    "    else:\n",
    "        yazi += 1\n",
    "tura_iht = tura / len(atis)\n",
    "yazi_iht = yazi / len(atis)\n",
    "print('Yapılan atış sayısı: ', len(atis))\n",
    "print('Bir sonraki atış için hesaplanan tura gelme ihtimali: ', tura_iht)\n",
    "print('Bir sonraki atış için hesaplanan yazı gelme ihtimali: ', yazi_iht)"
   ]
  },
  {
   "cell_type": "code",
   "execution_count": 37,
   "metadata": {},
   "outputs": [
    {
     "data": {
      "text/plain": [
       "array([4])"
      ]
     },
     "execution_count": 37,
     "metadata": {},
     "output_type": "execute_result"
    }
   ],
   "source": [
    "# 2. Yontem \n",
    "#1 deneme yapacağım 4 defa 0.5 olasılıkla atış yapacağım. Sonuc(0 ile 4 araliginda cikacak) \n",
    "#ve sonucta cikan sayi kadar basarili olunmus oluyor.\n",
    "\n",
    "\n",
    "np.random.binomial(4, 0.75, 1)"
   ]
  },
  {
   "cell_type": "code",
   "execution_count": 31,
   "metadata": {},
   "outputs": [],
   "source": [
    "#4 para atisinda 2 TURA bulmamizin olasiligina bakalim: \n",
    "\n",
    "atislar = np.random.binomial(4, 0.75, 10000)"
   ]
  },
  {
   "cell_type": "code",
   "execution_count": 39,
   "metadata": {
    "scrolled": true
   },
   "outputs": [
    {
     "data": {
      "text/plain": [
       "0.2107"
      ]
     },
     "execution_count": 39,
     "metadata": {},
     "output_type": "execute_result"
    }
   ],
   "source": [
    "#Bu 10000 defa denemede 2107 defa 4 atışın 2 sinde TURA geldi,demek\n",
    "\n",
    "np.sum(atislar==2)/10000\n"
   ]
  },
  {
   "cell_type": "code",
   "execution_count": 48,
   "metadata": {},
   "outputs": [
    {
     "data": {
      "text/plain": [
       "0.005"
      ]
     },
     "execution_count": 48,
     "metadata": {},
     "output_type": "execute_result"
    }
   ],
   "source": [
    "# 4 para atisinda en az bir TURA gelme olasiligi \n",
    "\n",
    "hic_tura_gelmemesi_olasiligi = np.sum(atislar == 0) / 10000\n",
    "hic_tura_gelmemesi_olasiligi"
   ]
  },
  {
   "cell_type": "code",
   "execution_count": 49,
   "metadata": {},
   "outputs": [
    {
     "data": {
      "text/plain": [
       "0.995"
      ]
     },
     "execution_count": 49,
     "metadata": {},
     "output_type": "execute_result"
    }
   ],
   "source": [
    "en_az_bir_tura_gelmesi = 1 - hic_tura_gelmemesi_olasiligi\n",
    "en_az_bir_tura_gelmesi"
   ]
  },
  {
   "cell_type": "code",
   "execution_count": 52,
   "metadata": {},
   "outputs": [
    {
     "data": {
      "text/plain": [
       "0.995"
      ]
     },
     "execution_count": 52,
     "metadata": {},
     "output_type": "execute_result"
    }
   ],
   "source": [
    "(np.sum(atislar == 1) + np.sum(atislar == 2) + np.sum(atislar == 3) + np.sum(atislar == 4))/ 10000"
   ]
  },
  {
   "cell_type": "code",
   "execution_count": 57,
   "metadata": {},
   "outputs": [
    {
     "data": {
      "text/plain": [
       "0.9517"
      ]
     },
     "execution_count": 57,
     "metadata": {},
     "output_type": "execute_result"
    }
   ],
   "source": [
    "birden_fazla_tura = 1 -(hic_tura_gelmemesi_olasiligi + np.sum(atislar == 1)/10000)\n",
    "birden_fazla_tura"
   ]
  },
  {
   "cell_type": "markdown",
   "metadata": {},
   "source": [
    "Atis arttikca dogruluk artmaktadir. "
   ]
  }
 ],
 "metadata": {
  "kernelspec": {
   "display_name": "Python 3",
   "language": "python",
   "name": "python3"
  },
  "language_info": {
   "codemirror_mode": {
    "name": "ipython",
    "version": 3
   },
   "file_extension": ".py",
   "mimetype": "text/x-python",
   "name": "python",
   "nbconvert_exporter": "python",
   "pygments_lexer": "ipython3",
   "version": "3.7.2"
  }
 },
 "nbformat": 4,
 "nbformat_minor": 2
}
