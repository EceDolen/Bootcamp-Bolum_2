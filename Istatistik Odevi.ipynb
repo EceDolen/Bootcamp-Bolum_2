{
 "cells": [
  {
   "cell_type": "markdown",
   "metadata": {},
   "source": [
    "1. numpy kütüphanesini kullanarak üreteceğiniz 3 farklı veri aracılığı ile merkezi eğilim ve dağılım ölçümlerini hem yukarıda verilen matematiksel formülle hem de python'da hazır bulunan (built-in) kodlar aracılığıyla analiz edin!!!"
   ]
  },
  {
   "cell_type": "code",
   "execution_count": 1,
   "metadata": {},
   "outputs": [
    {
     "data": {
      "text/plain": [
       "array([69, 49, 31, 22, 96, 59, 39, 68, 81, 79, 26, 12, 29, 77, 85, 86, 41,\n",
       "       76, 95, 67, 29, 57,  8, 78, 66, 59, 88, 92, 35, 97, 45, 73, 55, 73,\n",
       "       14, 68, 90, 57, 27, 23, 89, 31, 70, 59, 49, 30, 68, 71, 26, 32, 87,\n",
       "       67, 28, 93, 77, 12, 44, 81,  6, 80, 86, 22, 39, 38, 32, 10, 96, 82,\n",
       "       74, 75, 70, 56, 25, 72, 87, 29, 26, 72, 40, 97, 20, 53, 88, 25, 68,\n",
       "       16, 30, 81, 27, 96, 47, 99, 63, 64, 17, 39, 45, 73, 45,  7])"
      ]
     },
     "execution_count": 1,
     "metadata": {},
     "output_type": "execute_result"
    }
   ],
   "source": [
    "import numpy as np\n",
    "rassal = np. random.randint(100, size=100)\n",
    "rassal"
   ]
  },
  {
   "cell_type": "code",
   "execution_count": 2,
   "metadata": {},
   "outputs": [
    {
     "data": {
      "text/plain": [
       "55.52"
      ]
     },
     "execution_count": 2,
     "metadata": {},
     "output_type": "execute_result"
    }
   ],
   "source": [
    "#Matematiksel Formul kullanarak ortalama hesaplama\n",
    "\n",
    "sum(rassal) / len(rassal)"
   ]
  },
  {
   "cell_type": "code",
   "execution_count": 3,
   "metadata": {},
   "outputs": [
    {
     "name": "stdout",
     "output_type": "stream",
     "text": [
      "55.52\n"
     ]
    }
   ],
   "source": [
    "#Hazır (built-in) Python fonksiyonları kullanarak ortalama hesaplama\n",
    "print(np.mean(rassal))"
   ]
  },
  {
   "cell_type": "code",
   "execution_count": 4,
   "metadata": {},
   "outputs": [],
   "source": [
    "#Formul ile Median \n",
    "def median(rassal):\n",
    "    n = len(rassal)\n",
    "    if n < 1:\n",
    "            return None\n",
    "    if n % 2 == 1:\n",
    "            return sorted(rassal)[n//2]\n",
    "    else:\n",
    "            return sum(sorted(rassal)[n//2-1:n//2+1])/2.0"
   ]
  },
  {
   "cell_type": "code",
   "execution_count": 5,
   "metadata": {},
   "outputs": [
    {
     "data": {
      "text/plain": [
       "59.0"
      ]
     },
     "execution_count": 5,
     "metadata": {},
     "output_type": "execute_result"
    }
   ],
   "source": [
    "median(rassal)"
   ]
  },
  {
   "cell_type": "code",
   "execution_count": 6,
   "metadata": {},
   "outputs": [
    {
     "name": "stdout",
     "output_type": "stream",
     "text": [
      "59.0\n"
     ]
    }
   ],
   "source": [
    "#Built-in formul Median\n",
    "import statistics\n",
    "print(statistics.median(rassal))"
   ]
  },
  {
   "cell_type": "code",
   "execution_count": 7,
   "metadata": {},
   "outputs": [
    {
     "name": "stdout",
     "output_type": "stream",
     "text": [
      "59.0\n"
     ]
    }
   ],
   "source": [
    "#numpy ile median hesaplama\n",
    "print(np.median(rassal))"
   ]
  },
  {
   "cell_type": "code",
   "execution_count": 10,
   "metadata": {},
   "outputs": [
    {
     "data": {
      "text/plain": [
       "68"
      ]
     },
     "execution_count": 10,
     "metadata": {},
     "output_type": "execute_result"
    }
   ],
   "source": [
    "# Mod hesaplama\n",
    "import statistics\n",
    "statistics.mode(rassal)"
   ]
  },
  {
   "cell_type": "code",
   "execution_count": 11,
   "metadata": {},
   "outputs": [
    {
     "name": "stdout",
     "output_type": "stream",
     "text": [
      "709.7496000000001\n"
     ]
    }
   ],
   "source": [
    "#Varyans Hesaplama\n",
    "print(rassal.var())"
   ]
  },
  {
   "cell_type": "code",
   "execution_count": 12,
   "metadata": {},
   "outputs": [
    {
     "name": "stdout",
     "output_type": "stream",
     "text": [
      "709.7496000000001\n"
     ]
    }
   ],
   "source": [
    "print(np.var(rassal))"
   ]
  },
  {
   "cell_type": "code",
   "execution_count": 13,
   "metadata": {},
   "outputs": [
    {
     "data": {
      "text/plain": [
       "709.7496000000002"
      ]
     },
     "execution_count": 13,
     "metadata": {},
     "output_type": "execute_result"
    }
   ],
   "source": [
    "var = sum((rassal -np.mean(rassal))**2) / (len(rassal))\n",
    "var"
   ]
  },
  {
   "cell_type": "code",
   "execution_count": 14,
   "metadata": {},
   "outputs": [
    {
     "name": "stdout",
     "output_type": "stream",
     "text": [
      "[1.83545859e+02 4.29397980e+01 6.07303434e+02 1.13493980e+03\n",
      " 1.65518222e+03 1.22327273e+01 2.75667071e+02 1.57323636e+02\n",
      " 6.55788283e+02 5.56879192e+02 8.80232727e+02 1.91312162e+03\n",
      " 7.10414545e+02 4.66050909e+02 8.77848889e+02 9.38414545e+02\n",
      " 2.12960000e+02 4.23667071e+02 1.57441455e+03 1.33121616e+02\n",
      " 7.10414545e+02 2.21252525e+00 2.28096000e+03 5.10454949e+02\n",
      " 1.10939798e+02 1.22327273e+01 1.06560646e+03 1.34423273e+03\n",
      " 4.25323636e+02 1.73797010e+03 1.11788283e+02 3.08636768e+02\n",
      " 2.73131313e-01 3.08636768e+02 1.74132364e+03 1.57323636e+02\n",
      " 1.20087919e+03 2.21252525e+00 8.21606465e+02 1.06823273e+03\n",
      " 1.13223273e+03 6.07303434e+02 2.11788283e+02 1.22327273e+01\n",
      " 4.29397980e+01 6.57848889e+02 1.57323636e+02 2.42050909e+02\n",
      " 8.80232727e+02 5.58778182e+02 1.00100040e+03 1.33121616e+02\n",
      " 7.65000404e+02 1.41893980e+03 4.66050909e+02 1.91312162e+03\n",
      " 1.34050909e+02 6.55788283e+02 2.47700040e+03 6.05323636e+02\n",
      " 9.38414545e+02 1.13493980e+03 2.75667071e+02 3.10050909e+02\n",
      " 5.58778182e+02 2.09300040e+03 1.65518222e+03 7.08273131e+02\n",
      " 3.44960000e+02 3.83303434e+02 2.11788283e+02 2.32727273e-01\n",
      " 9.40879192e+02 2.74333737e+02 1.00100040e+03 7.10414545e+02\n",
      " 8.80232727e+02 2.74333737e+02 2.43303434e+02 1.73797010e+03\n",
      " 1.27441455e+03 6.41454545e+00 1.06560646e+03 9.40879192e+02\n",
      " 1.57323636e+02 1.57760646e+03 6.57848889e+02 6.55788283e+02\n",
      " 8.21606465e+02 1.65518222e+03 7.33236364e+01 1.90960646e+03\n",
      " 5.65155556e+01 7.26367677e+01 1.49877818e+03 2.75667071e+02\n",
      " 1.11788283e+02 3.08636768e+02 1.11788283e+02 2.37797010e+03]\n"
     ]
    }
   ],
   "source": [
    "m = sum(rassal) / len(rassal)\n",
    "\n",
    "var = sum([(rassal - m)**2 for xi in rassal]) / (len(rassal) -1)\n",
    "print (var)"
   ]
  },
  {
   "cell_type": "code",
   "execution_count": 15,
   "metadata": {},
   "outputs": [
    {
     "data": {
      "text/plain": [
       "26.64112610232533"
      ]
     },
     "execution_count": 15,
     "metadata": {},
     "output_type": "execute_result"
    }
   ],
   "source": [
    "#Standard Sapma \n",
    "np.std(rassal)"
   ]
  },
  {
   "cell_type": "code",
   "execution_count": 16,
   "metadata": {},
   "outputs": [
    {
     "data": {
      "text/plain": [
       "2.664112610232533"
      ]
     },
     "execution_count": 16,
     "metadata": {},
     "output_type": "execute_result"
    }
   ],
   "source": [
    "#Standart Hata \n",
    "np.std(rassal) / np.sqrt(len(rassal))"
   ]
  },
  {
   "cell_type": "code",
   "execution_count": null,
   "metadata": {},
   "outputs": [],
   "source": []
  },
  {
   "cell_type": "code",
   "execution_count": null,
   "metadata": {},
   "outputs": [],
   "source": []
  }
 ],
 "metadata": {
  "kernelspec": {
   "display_name": "Python 3",
   "language": "python",
   "name": "python3"
  },
  "language_info": {
   "codemirror_mode": {
    "name": "ipython",
    "version": 3
   },
   "file_extension": ".py",
   "mimetype": "text/x-python",
   "name": "python",
   "nbconvert_exporter": "python",
   "pygments_lexer": "ipython3",
   "version": "3.7.2"
  }
 },
 "nbformat": 4,
 "nbformat_minor": 2
}
